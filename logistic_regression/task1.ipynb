{
 "cells": [
  {
   "cell_type": "code",
   "execution_count": 11,
   "metadata": {},
   "outputs": [],
   "source": [
    "import re\n",
    "import numpy as np\n",
    "import sys\n",
    "import time\n",
    "d_corpus = sc.textFile(\"../data/SmallTrainingData.txt\", 1)\n",
    "d_keyAndText = d_corpus.map(lambda x : (x[x.index('id=\"') + 4 : x.index('\" url=')], x[x.index('\">') + 2:][:-6]))\n",
    "regex = re.compile('[^a-zA-Z]')\n",
    "d_keyAndListOfWords = d_keyAndText.map(lambda x : (str(x[0]), regex.sub(' ', x[1]).lower().split()))"
   ]
  },
  {
   "cell_type": "code",
   "execution_count": 12,
   "metadata": {},
   "outputs": [],
   "source": [
    "allWords = d_keyAndListOfWords.flatMap(lambda x: x[1]).map(lambda x: (x, 1))\n",
    "from operator import add\n",
    "allCounts = allWords.reduceByKey(add)"
   ]
  },
  {
   "cell_type": "code",
   "execution_count": 13,
   "metadata": {},
   "outputs": [
    {
     "data": {
      "text/plain": [
       "[('consideration', 336),\n",
       " ('of', 205873),\n",
       " ('an', 23896),\n",
       " ('pending', 64),\n",
       " ('appeal', 879)]"
      ]
     },
     "execution_count": 13,
     "metadata": {},
     "output_type": "execute_result"
    }
   ],
   "source": [
    "allCounts.take(5)"
   ]
  },
  {
   "cell_type": "code",
   "execution_count": 14,
   "metadata": {},
   "outputs": [],
   "source": [
    "topWords = allCounts.top(20000, key=lambda x: x[1])"
   ]
  },
  {
   "cell_type": "code",
   "execution_count": 15,
   "metadata": {},
   "outputs": [],
   "source": [
    "twentyK = sc.parallelize(range(20000))"
   ]
  },
  {
   "cell_type": "code",
   "execution_count": 16,
   "metadata": {},
   "outputs": [],
   "source": [
    "dictionary = twentyK.map (lambda x : (topWords[x][0], x))"
   ]
  },
  {
   "cell_type": "code",
   "execution_count": 17,
   "metadata": {},
   "outputs": [],
   "source": [
    "pairApplicant = dictionary.filter(lambda x: x[0] == \"applicant\").collect()"
   ]
  },
  {
   "cell_type": "code",
   "execution_count": 18,
   "metadata": {},
   "outputs": [],
   "source": [
    "pairAnd = dictionary.filter(lambda x: x[0] == \"and\").collect()\n",
    "pairAttack = dictionary.filter(lambda x: x[0] == \"attack\").collect()\n",
    "pairProtein= dictionary.filter(lambda x: x[0] == \"protein\").collect()\n",
    "pairCar = dictionary.filter(lambda x: x[0] == \"car\").collect()"
   ]
  },
  {
   "cell_type": "code",
   "execution_count": 9,
   "metadata": {},
   "outputs": [
    {
     "name": "stdout",
     "output_type": "stream",
     "text": [
      "Position of applicant:  346\n",
      "Position of and:  2\n",
      "Position of attack:  502\n",
      "Position of protein:  3014\n",
      "Position of car:  608\n"
     ]
    }
   ],
   "source": [
    "print(\"Position of applicant: \", pairApplicant[0][1])\n",
    "print(\"Position of and: \", pairAnd[0][1])\n",
    "print(\"Position of attack: \", pairAttack[0][1])\n",
    "print(\"Position of protein: \", pairProtein[0][1])\n",
    "print(\"Position of car: \", pairCar[0][1])"
   ]
  },
  {
   "cell_type": "code",
   "execution_count": 10,
   "metadata": {},
   "outputs": [],
   "source": [
    "#task 2"
   ]
  },
  {
   "cell_type": "code",
   "execution_count": 19,
   "metadata": {},
   "outputs": [],
   "source": [
    "def buildArray (listOfIndices):\n",
    "    returnVal = np.zeros (20000)\n",
    "    for index in listOfIndices:\n",
    "        returnVal[index] = returnVal[index] + 1\n",
    "    mysum = np.sum (returnVal)\n",
    "    returnVal = np.divide (returnVal, mysum)\n",
    "    return returnVal\n"
   ]
  },
  {
   "cell_type": "code",
   "execution_count": 20,
   "metadata": {},
   "outputs": [],
   "source": [
    "allWords = d_keyAndListOfWords.flatMap(lambda x: ((j, x[0]) for j in x[1]))"
   ]
  },
  {
   "cell_type": "code",
   "execution_count": 21,
   "metadata": {},
   "outputs": [],
   "source": [
    "allDictionaryWords = dictionary.join(allWords)"
   ]
  },
  {
   "cell_type": "code",
   "execution_count": 22,
   "metadata": {},
   "outputs": [],
   "source": [
    "justDocAndPos = allDictionaryWords.map(lambda x: (x[1][1], x[1][0]))"
   ]
  },
  {
   "cell_type": "code",
   "execution_count": 23,
   "metadata": {},
   "outputs": [],
   "source": [
    "allDictionaryWordsInEachDoc = justDocAndPos.groupByKey()"
   ]
  },
  {
   "cell_type": "code",
   "execution_count": 24,
   "metadata": {},
   "outputs": [],
   "source": [
    "forCSV= allDictionaryWordsInEachDoc.mapValues(lambda x: np.array( list(x)))"
   ]
  },
  {
   "cell_type": "code",
   "execution_count": 25,
   "metadata": {},
   "outputs": [],
   "source": [
    "tfs = allDictionaryWordsInEachDoc.map(lambda x: (x[0], buildArray(x[1])))"
   ]
  },
  {
   "cell_type": "code",
   "execution_count": 24,
   "metadata": {},
   "outputs": [
    {
     "data": {
      "text/plain": [
       "[('AU35',\n",
       "  array([0.11425061, 0.06511057, 0.02272727, ..., 0.        , 0.        ,\n",
       "         0.        ])),\n",
       " ('AU85',\n",
       "  array([0.11214496, 0.0553379 , 0.03770813, ..., 0.        , 0.        ,\n",
       "         0.        ])),\n",
       " ('AU160',\n",
       "  array([0.08426966, 0.04283708, 0.02457865, ..., 0.        , 0.        ,\n",
       "         0.        ])),\n",
       " ('AU561',\n",
       "  array([0.09657795, 0.03802281, 0.01977186, ..., 0.        , 0.        ,\n",
       "         0.        ])),\n",
       " ('AU736',\n",
       "  array([0.11322314, 0.0446281 , 0.01983471, ..., 0.        , 0.        ,\n",
       "         0.        ]))]"
      ]
     },
     "execution_count": 24,
     "metadata": {},
     "output_type": "execute_result"
    }
   ],
   "source": [
    "tfs.take(5)"
   ]
  },
  {
   "cell_type": "code",
   "execution_count": 25,
   "metadata": {},
   "outputs": [
    {
     "name": "stdout",
     "output_type": "stream",
     "text": [
      "<_sre.SRE_Match object; span=(0, 2), match='AU'>\n"
     ]
    }
   ],
   "source": [
    "print(re.compile('^AU').match('AU35'))"
   ]
  },
  {
   "cell_type": "code",
   "execution_count": 26,
   "metadata": {},
   "outputs": [],
   "source": [
    "def oneHotEncoding(ID):\n",
    "    if re.compile('^AU').match(ID):\n",
    "        return 1\n",
    "    else:\n",
    "        return 0"
   ]
  },
  {
   "cell_type": "code",
   "execution_count": 27,
   "metadata": {},
   "outputs": [],
   "source": [
    "data = tfs.map(lambda x: (oneHotEncoding(x[0]), x[1]))\n",
    "        #.map(lambda x: (x[0], np.append(1.0, x[1])))"
   ]
  },
  {
   "cell_type": "code",
   "execution_count": 43,
   "metadata": {},
   "outputs": [
    {
     "data": {
      "text/plain": [
       "[(1, array([0.11425061, 0.06511057, 0.02272727, ..., 0.        , 0.        ,\n",
       "         0.        ])),\n",
       " (1, array([0.11214496, 0.0553379 , 0.03770813, ..., 0.        , 0.        ,\n",
       "         0.        ])),\n",
       " (1, array([0.08426966, 0.04283708, 0.02457865, ..., 0.        , 0.        ,\n",
       "         0.        ])),\n",
       " (1, array([0.09657795, 0.03802281, 0.01977186, ..., 0.        , 0.        ,\n",
       "         0.        ])),\n",
       " (1, array([0.11322314, 0.0446281 , 0.01983471, ..., 0.        , 0.        ,\n",
       "         0.        ]))]"
      ]
     },
     "execution_count": 43,
     "metadata": {},
     "output_type": "execute_result"
    }
   ],
   "source": [
    "data.take(5)"
   ]
  },
  {
   "cell_type": "code",
   "execution_count": 28,
   "metadata": {},
   "outputs": [],
   "source": [
    "def calculateTheta(x, r_prev):\n",
    "    return np.dot(x, r_prev)"
   ]
  },
  {
   "cell_type": "code",
   "execution_count": 29,
   "metadata": {},
   "outputs": [],
   "source": [
    "def getLogPart(theta):\n",
    "    return np.log(1 + np.exp(theta))"
   ]
  },
  {
   "cell_type": "code",
   "execution_count": 30,
   "metadata": {},
   "outputs": [],
   "source": [
    "def calculateXtY(x, y):\n",
    "    return -np.multiply(x, y)"
   ]
  },
  {
   "cell_type": "code",
   "execution_count": 31,
   "metadata": {},
   "outputs": [],
   "source": [
    "def getXMultiplyThetaPart(x, theta):\n",
    "    return np.multiply(x, (np.exp(theta) / (1.0 + np.exp(theta))))"
   ]
  },
  {
   "cell_type": "code",
   "execution_count": 32,
   "metadata": {},
   "outputs": [],
   "source": [
    "def getYMultiplyTheta(y, theta):\n",
    "    return -np.multiply(y, theta)"
   ]
  },
  {
   "cell_type": "code",
   "execution_count": 33,
   "metadata": {},
   "outputs": [],
   "source": [
    "def getCostAndDerivative(x, y, r_prev):\n",
    "    theta = calculateTheta(x, r_prev)\n",
    "    Ytheta = getYMultiplyTheta(y, theta)\n",
    "    logPart = getLogPart(theta)\n",
    "    XtY = calculateXtY(x, y)\n",
    "    XTheta = getXMultiplyThetaPart(x, theta)\n",
    "    cost = np.add(Ytheta, logPart)\n",
    "    derivative = np.add(XtY, XTheta)\n",
    "    return np.array([cost, derivative])"
   ]
  },
  {
   "cell_type": "code",
   "execution_count": 50,
   "metadata": {},
   "outputs": [],
   "source": [
    "def getDerivative(x, y, theta):\n",
    "    XtY = calculateXtY(x, y)\n",
    "    XTheta = getXMultiplyThetaPart(x, theta)\n",
    "    derivative = np.add(XtY, XTheta)\n",
    "    return derivative"
   ]
  },
  {
   "cell_type": "code",
   "execution_count": 51,
   "metadata": {},
   "outputs": [],
   "source": [
    "def getLLH(x, y, theta):\n",
    "    Ytheta = getYMultiplyTheta(y, theta)\n",
    "    logPart = getLogPart(theta)\n",
    "    cost = np.add(Ytheta, logPart)\n",
    "    return cost"
   ]
  },
  {
   "cell_type": "code",
   "execution_count": null,
   "metadata": {},
   "outputs": [],
   "source": [
    "#def gradientDescent(learningRate = 0.01, num_iteration = 100):\n",
    "num_iteration = 100\n",
    "learningRate = 0.01\n",
    "r_prev= np.full(20000, 0.1)\n",
    "count = 0\n",
    "cost_prev = sys.float_info.max\n",
    "precision = 0.00000001\n",
    "prev_stepsize = 1\n",
    "while(num_iteration > count and precision < prev_stepsize):\n",
    "    start = time.time()\n",
    "\n",
    "    # Calculate cost and derivative\n",
    "    costAndDerivative = data.map(lambda x: (x[0], x[1], calculateTheta(x[1], r_prev)))\\\n",
    "                            .map(lambda x: (1, np.append(getLLH(x[1], x[0], x[2]), getDerivative(x[1], x[0], x[2]))))\\\n",
    "                            .reduceByKey(lambda x1, x2:np.add(x1, x2)).collect()\n",
    "   \n",
    "\n",
    "    cost_cur = costAndDerivative[0][1][0]\n",
    "    dr = costAndDerivative[0][1][1:]\n",
    "\n",
    "\n",
    "    # Set current weight \n",
    "    r_cur = np.subtract(r_prev, learningRate*dr)\n",
    "\n",
    "\n",
    "\n",
    "    # Bold Driver logic\n",
    "    if cost_cur < cost_prev:\n",
    "        learningRate *= 1.05\n",
    "    else:\n",
    "        learningRate *= 0.5\n",
    "\n",
    "    print(\"Iteration: \", count)\n",
    "    print(\"W: \" ,r_cur)\n",
    "    print(\"Loss: \", cost_cur)\n",
    "\n",
    "    count += 1\n",
    "\n",
    "    # Calculate stepsize\n",
    "    prev_stepsize = np.linalg.norm(np.subtract(r_prev, r_cur), 2)\n",
    "\n",
    "    r_prev = r_cur\n",
    "\n",
    "    cost_prev = cost_cur\n",
    "\n",
    "    stop = time.time()\n",
    "    duration = stop - start\n",
    "    print(\"Duration\", duration)"
   ]
  },
  {
   "cell_type": "code",
   "execution_count": null,
   "metadata": {},
   "outputs": [],
   "source": [
    "\n",
    "prediction = "
   ]
  }
 ],
 "metadata": {
  "kernelspec": {
   "display_name": "Python 3",
   "language": "python",
   "name": "python3"
  },
  "language_info": {
   "codemirror_mode": {
    "name": "ipython",
    "version": 3
   },
   "file_extension": ".py",
   "mimetype": "text/x-python",
   "name": "python",
   "nbconvert_exporter": "python",
   "pygments_lexer": "ipython3",
   "version": "3.6.8"
  },
  "latex_envs": {
   "LaTeX_envs_menu_present": true,
   "autoclose": false,
   "autocomplete": true,
   "bibliofile": "biblio.bib",
   "cite_by": "apalike",
   "current_citInitial": 1,
   "eqLabelWithNumbers": true,
   "eqNumInitial": 1,
   "hotkeys": {
    "equation": "Ctrl-E",
    "itemize": "Ctrl-I"
   },
   "labels_anchors": false,
   "latex_user_defs": false,
   "report_style_numbering": false,
   "user_envs_cfg": false
  }
 },
 "nbformat": 4,
 "nbformat_minor": 2
}
