{
 "cells": [
  {
   "cell_type": "code",
   "execution_count": 1,
   "metadata": {},
   "outputs": [],
   "source": [
    "rdd = sc.textFile(\"taxi-data-sorted-small.csv.bz2\", 1000)"
   ]
  },
  {
   "cell_type": "code",
   "execution_count": 2,
   "metadata": {},
   "outputs": [
    {
     "data": {
      "text/plain": [
       "['07290D3599E7A0D62097A346EFCC1FB5,E7750A37CAB07D0DFF0AF7E3573AC141,2013-01-01 00:00:00,2013-01-01 00:02:00,120,0.44,-73.956528,40.716976,-73.962440,40.715008,CSH,3.50,0.50,0.50,0.00,0.00,4.50',\n",
       " '22D70BF00EEB0ADC83BA8177BB861991,3FF2709163DE7036FCAA4E5A3324E4BF,2013-01-01 00:02:00,2013-01-01 00:02:00,0,0.00,0.000000,0.000000,0.000000,0.000000,CSH,27.00,0.00,0.50,0.00,0.00,27.50',\n",
       " '0EC22AAF491A8BD91F279350C2B010FD,778C92B26AE78A9EBDF96B49C67E4007,2013-01-01 00:01:00,2013-01-01 00:03:00,120,0.71,-73.973145,40.752827,-73.965897,40.760445,CSH,4.00,0.50,0.50,0.00,0.00,5.00',\n",
       " '1390FB380189DF6BBFDA4DC847CAD14F,BE317B986700F63C43438482792C8654,2013-01-01 00:01:00,2013-01-01 00:03:00,120,0.48,-74.004173,40.720947,-74.003838,40.726189,CSH,4.00,0.50,0.50,0.00,0.00,5.00',\n",
       " '3B4129883A1D05BE89F2C929DE136281,7077F9FD5AD649AEACA4746B2537E3FA,2013-01-01 00:01:00,2013-01-01 00:03:00,120,0.61,-73.987373,40.724861,-73.983772,40.730995,CRD,4.00,0.50,0.50,0.00,0.00,5.00']"
      ]
     },
     "execution_count": 2,
     "metadata": {},
     "output_type": "execute_result"
    }
   ],
   "source": [
    "rdd.take(5)"
   ]
  },
  {
   "cell_type": "code",
   "execution_count": 1,
   "metadata": {},
   "outputs": [],
   "source": [
    "import bz2\n",
    "with bz2.open(\"taxi-data-sorted-small.csv.bz2\", 'rt') as f:\n",
    "    content = f.readlines()"
   ]
  },
  {
   "cell_type": "code",
   "execution_count": 2,
   "metadata": {},
   "outputs": [],
   "source": [
    "rdd = sc.parallelize(content[5000])"
   ]
  },
  {
   "cell_type": "code",
   "execution_count": 34,
   "metadata": {},
   "outputs": [
    {
     "data": {
      "text/plain": [
       "'26C5365B5F8A4495DA0A261F926C53DB,0A08EC79EF0E7F3C14DC4AD92D27F97F,2013-01-01 17:16:00,2013-01-01 17:18:00,120,0.56,-73.963966,40.808216,-73.966705,40.804272,CSH,4.00,0.00,0.50,0.00,0.00,4.50\\n'"
      ]
     },
     "execution_count": 34,
     "metadata": {},
     "output_type": "execute_result"
    }
   ],
   "source": [
    "content[150000]"
   ]
  },
  {
   "cell_type": "code",
   "execution_count": 4,
   "metadata": {},
   "outputs": [],
   "source": [
    "# Get cleaned rdd of text list\n",
    "textLines = rdd.map(lambda x: x.rstrip(\"\\n\"))\\\n",
    "                .map(lambda x: x.split(\",\"))\\\n",
    "                .filter(lambda x: len(x) == 17)"
   ]
  },
  {
   "cell_type": "code",
   "execution_count": 5,
   "metadata": {},
   "outputs": [],
   "source": [
    "#1. Get top ten taxis that have had largest number of drivers\n",
    "aggCount_taxis_drivers= textLines.map(lambda x: (x[0], x[1]))\\\n",
    "                                 .groupByKey()\\\n",
    "                                 .mapValues(len)"
   ]
  },
  {
   "cell_type": "code",
   "execution_count": null,
   "metadata": {},
   "outputs": [],
   "source": []
  },
  {
   "cell_type": "code",
   "execution_count": 6,
   "metadata": {},
   "outputs": [],
   "source": [
    "top_10_taxis_drivers = aggCount_taxis_drivers.top(10, key=lambda x: x[1])"
   ]
  },
  {
   "cell_type": "code",
   "execution_count": 7,
   "metadata": {},
   "outputs": [
    {
     "data": {
      "text/plain": [
       "[('F8A0B52B22BB58B3C45E66CEE135C29D', 4),\n",
       " ('9B5BE818E3C04896687FFD3C4BF5555F', 3),\n",
       " ('8669D9002FF4D63D433C5D9CCA710D7C', 3),\n",
       " ('6BA29E9A69B10F218C1509BEDD7410C2', 2),\n",
       " ('03B0493FEB9C714754477C4B816B7B73', 2),\n",
       " ('F6D3816AA5A0C24DE107AC490013796F', 2),\n",
       " ('D7DB65DF378CBC004BC9B41D223AAADF', 2),\n",
       " ('EDC498F8AB44E4697ECB239CF11E001F', 2),\n",
       " ('0964BAF015F74B4E628615EAFD0E2D57', 2),\n",
       " ('F2751CE89ED7E006D8E9C243FC31D01C', 2)]"
      ]
     },
     "execution_count": 7,
     "metadata": {},
     "output_type": "execute_result"
    }
   ],
   "source": [
    "top_10_taxis_drivers"
   ]
  },
  {
   "cell_type": "code",
   "execution_count": null,
   "metadata": {},
   "outputs": [],
   "source": []
  },
  {
   "cell_type": "code",
   "execution_count": 8,
   "metadata": {},
   "outputs": [],
   "source": [
    "# 2. Get top ten drivers who eanred more money per minute"
   ]
  },
  {
   "cell_type": "code",
   "execution_count": 9,
   "metadata": {},
   "outputs": [],
   "source": [
    "# Calculate money earned per minutes for each driver\n",
    "# First take index of 1'hack_license', 4'trip_time_in_secs', and 16'total_amount' from textLines.\n",
    "# ReduceByKey with key of  hack_license' summing up 'trip_time_in_secs' in minutes 'total_amount'\n",
    "# Map to avarage amount of earned money per minutes.\n",
    "\n",
    "# earnByMinute = textLines.map(lambda x: (x[1], (float(x[4]), float(x[16]))))\\\n",
    "#                         .filter(lambda x: (x[0] != 0) and (x[1][0] != 0) and  )\\\n",
    "#                         .reduceByKey(lambda x, y: (x[0]/60 + y[0]/ 60, x[1] + y[1]))\\\n",
    "#                         .filter(lambda x: x != 0)\\\n",
    "#                         .map(lambda x: (x[0], x[1][1] / x[1][0]))"
   ]
  },
  {
   "cell_type": "code",
   "execution_count": 10,
   "metadata": {},
   "outputs": [],
   "source": [
    "# earnByMinute.take(3)"
   ]
  },
  {
   "cell_type": "code",
   "execution_count": 11,
   "metadata": {},
   "outputs": [],
   "source": [
    "# Calculate total duration driven by each driver\n",
    "# Filter 0 out\n",
    "totalMinute = textLines.map(lambda x: (x[1], float(x[4])))\\\n",
    "                        .filter(lambda x: 0 not in x)\\\n",
    "                        .reduceByKey(lambda x, y: x/60 + y/60)"
   ]
  },
  {
   "cell_type": "code",
   "execution_count": 12,
   "metadata": {},
   "outputs": [],
   "source": [
    "# Calculate total money earned by each driver\n",
    "# Filter 0 out\n",
    "totalMoney = textLines.map(lambda x: (x[1], float(x[16])))\\\n",
    "                      .filter(lambda x: 0 not in x)\\\n",
    "                      .reduceByKey(lambda x, y: x + y)"
   ]
  },
  {
   "cell_type": "code",
   "execution_count": 13,
   "metadata": {},
   "outputs": [],
   "source": [
    "# Calculate earning per minute joining total\n",
    "# Filter 0 our\n",
    "earningPerMinute = totalMinute.join(totalMoney)\\\n",
    "                              .filter(lambda x: 0 not in x[1])\\\n",
    "                              .map(lambda x: (x[0], x[1][1] / x[1][0]))"
   ]
  },
  {
   "cell_type": "code",
   "execution_count": 14,
   "metadata": {},
   "outputs": [
    {
     "data": {
      "text/plain": [
       "[('00B7691D86D96AEBD21DD9E138F90840', 581.3938132986634),\n",
       " ('4D85F9862CD0E1675B0946F1A4535B42', 8.20625),\n",
       " ('FD717A920A5125D904090815FA489598', 5.585106382978723),\n",
       " ('8322F2222F5D9F5E23FB0A9D866EAF7E', 4.233333333333333),\n",
       " ('DD9ABBF45EC86DFD0E96AAAAB55AF385', 2.0833333333333335),\n",
       " ('0D5AC420758EA96775D233FC8529983A', 2.033333333333333),\n",
       " ('2E0CA2421982DDF5DC7574CFA58DBC84', 1.9944444444444445),\n",
       " ('108B18241CE401E06AAC4CF376735BF2', 1.957142857142857),\n",
       " ('69D19CD8ADCAA46F9B8AF942D3F67C31', 1.9285714285714286),\n",
       " ('CF8604E72D83840FBA1978C2D2FC9CDB', 1.8857142857142857)]"
      ]
     },
     "execution_count": 14,
     "metadata": {},
     "output_type": "execute_result"
    }
   ],
   "source": [
    "earningPerMinute.top(10, key=lambda x: x[1])"
   ]
  },
  {
   "cell_type": "code",
   "execution_count": 15,
   "metadata": {},
   "outputs": [],
   "source": [
    "# 3. Find the hour of the day when has the best profite ration"
   ]
  },
  {
   "cell_type": "code",
   "execution_count": 19,
   "metadata": {},
   "outputs": [],
   "source": [
    "from datetime import datetime\n",
    "import pandas as pd"
   ]
  },
  {
   "cell_type": "code",
   "execution_count": 20,
   "metadata": {},
   "outputs": [],
   "source": [
    "# Function to \n",
    "def getRange(start, end, t):\n",
    "    time_range = pd.date_range(start, end, freq = \"H\" )\n",
    "    if t == \"date\":\n",
    "        return time_range.date\n",
    "    if t == \"hour\":\n",
    "        return time_range.hour"
   ]
  },
  {
   "cell_type": "code",
   "execution_count": 24,
   "metadata": {},
   "outputs": [],
   "source": [
    "# flat date, hour, surgent and distance by hour\n",
    "# to ((datetime.date, hour), (trip_distance, surcharge))\n",
    "flatHour = textLines.map(lambda x: (x[2], x[3], x[5], x[12]))\\\n",
    "        .flatMap(lambda x: [( (d, int(h)) ,(float(x[2]), float(x[3]))) \\\n",
    "                            for d, h in zip(getRange(x[0], x[1], \"date\"),\\\n",
    "                                            getRange(x[0], x[1], \"hour\"))])"
   ]
  },
  {
   "cell_type": "code",
   "execution_count": 54,
   "metadata": {},
   "outputs": [],
   "source": [
    "def getTime(d, t):\n",
    "    if t == \"date\":\n",
    "        return datetime.strptime(d, \"%Y-%m-%d %H:%M:%S\").date()\n",
    "    if t == \"hour\":\n",
    "        return datetime.strptime(d, \"%Y-%m-%d %H:%M:%S\").hour"
   ]
  },
  {
   "cell_type": "code",
   "execution_count": 57,
   "metadata": {},
   "outputs": [],
   "source": [
    "hour = textLines.map(lambda x: ((getTime(x[2], \"date\"), getTime(x[2], \"hour\")), \n",
    "                                (float(x[5]), float(x[12]))))\\\n",
    "                .reduceByKey(lambda x, y: (x[0]+y[0], x[1]+y[1]))\\\n",
    "                .map(lambda x: (x[0], x[1][1] / x[1][0]))\\\n",
    "                .map(lambda x: (x[0][0], (x[1], x[0][1])))\\\n",
    "                .reduceByKey(max)"
   ]
  },
  {
   "cell_type": "code",
   "execution_count": 58,
   "metadata": {},
   "outputs": [
    {
     "data": {
      "text/plain": [
       "[(datetime.date(2013, 1, 1), (0.31521407892731973, 0))]"
      ]
     },
     "execution_count": 58,
     "metadata": {},
     "output_type": "execute_result"
    }
   ],
   "source": [
    "hour.take(5)"
   ]
  },
  {
   "cell_type": "code",
   "execution_count": 26,
   "metadata": {},
   "outputs": [],
   "source": [
    "# culculate ratio and map to key datetime.date and value (ratio, hour)\n",
    "# reduce by the key datetime.data and take max of tuple based on ratio\n",
    "bestHourForDay = flatHour.reduceByKey(lambda x, y: (x[0]+y[0], x[1]+y[1]))\\\n",
    "                          .map(lambda x: (x[0], x[1][1] / x[1][0]))\\\n",
    "                          .map(lambda x: (x[0][0], (x[1], x[0][1])))\\\n",
    "                          .reduceByKey(max)"
   ]
  },
  {
   "cell_type": "code",
   "execution_count": 27,
   "metadata": {},
   "outputs": [
    {
     "data": {
      "text/plain": [
       "[((datetime.date(2013, 1, 1), 0), (1575.1200000000003, 496.5))]"
      ]
     },
     "execution_count": 27,
     "metadata": {},
     "output_type": "execute_result"
    }
   ],
   "source": [
    "bestHourForDay.take(5)"
   ]
  },
  {
   "cell_type": "code",
   "execution_count": null,
   "metadata": {},
   "outputs": [],
   "source": [
    "test -"
   ]
  },
  {
   "cell_type": "code",
   "execution_count": 41,
   "metadata": {},
   "outputs": [
    {
     "data": {
      "text/plain": [
       "Int64Index([0], dtype='int64')"
      ]
     },
     "execution_count": 41,
     "metadata": {},
     "output_type": "execute_result"
    }
   ],
   "source": [
    "getRange(\"2013-01-01 00:15:00\", \"2013-01-01 00:15:00\", \"hour\")"
   ]
  },
  {
   "cell_type": "code",
   "execution_count": 45,
   "metadata": {
    "scrolled": true
   },
   "outputs": [
    {
     "ename": "TypeError",
     "evalue": "'int' object is not callable",
     "output_type": "error",
     "traceback": [
      "\u001b[0;31m---------------------------------------------------------------------------\u001b[0m",
      "\u001b[0;31mTypeError\u001b[0m                                 Traceback (most recent call last)",
      "\u001b[0;32m<ipython-input-45-cde95a677b45>\u001b[0m in \u001b[0;36m<module>\u001b[0;34m\u001b[0m\n\u001b[0;32m----> 1\u001b[0;31m \u001b[0mdatetime\u001b[0m\u001b[0;34m.\u001b[0m\u001b[0mstrptime\u001b[0m\u001b[0;34m(\u001b[0m\u001b[0;34m\"2013-01-01 00:15:00\"\u001b[0m\u001b[0;34m,\u001b[0m \u001b[0;34m\"%Y-%m-%d %H:%M:%S\"\u001b[0m\u001b[0;34m)\u001b[0m\u001b[0;34m.\u001b[0m\u001b[0mhour\u001b[0m\u001b[0;34m(\u001b[0m\u001b[0;34m)\u001b[0m\u001b[0;34m\u001b[0m\u001b[0;34m\u001b[0m\u001b[0m\n\u001b[0m",
      "\u001b[0;31mTypeError\u001b[0m: 'int' object is not callable"
     ]
    }
   ],
   "source": [
    "datetime.strptime(\"2013-01-01 00:15:00\", \"%Y-%m-%d %H:%M:%S\").()"
   ]
  },
  {
   "cell_type": "code",
   "execution_count": null,
   "metadata": {},
   "outputs": [],
   "source": []
  }
 ],
 "metadata": {
  "kernelspec": {
   "display_name": "Python 3",
   "language": "python",
   "name": "python3"
  },
  "language_info": {
   "codemirror_mode": {
    "name": "ipython",
    "version": 3
   },
   "file_extension": ".py",
   "mimetype": "text/x-python",
   "name": "python",
   "nbconvert_exporter": "python",
   "pygments_lexer": "ipython3",
   "version": "3.6.8"
  },
  "latex_envs": {
   "LaTeX_envs_menu_present": true,
   "autoclose": false,
   "autocomplete": true,
   "bibliofile": "biblio.bib",
   "cite_by": "apalike",
   "current_citInitial": 1,
   "eqLabelWithNumbers": true,
   "eqNumInitial": 1,
   "hotkeys": {
    "equation": "Ctrl-E",
    "itemize": "Ctrl-I"
   },
   "labels_anchors": false,
   "latex_user_defs": false,
   "report_style_numbering": false,
   "user_envs_cfg": false
  }
 },
 "nbformat": 4,
 "nbformat_minor": 2
}
