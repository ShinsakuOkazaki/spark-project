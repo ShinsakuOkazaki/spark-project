{
 "cells": [
  {
   "cell_type": "code",
   "execution_count": 1,
   "metadata": {},
   "outputs": [],
   "source": [
    "rdd = sc.textFile(\"../data/taxi-data-sorted-small.csv.bz2\")\n",
    "rdd = rdd.map(lambda x: x.split(','))"
   ]
  },
  {
   "cell_type": "code",
   "execution_count": 2,
   "metadata": {},
   "outputs": [],
   "source": [
    "# import bz2\n",
    "# with bz2.open(\"../data/taxi-data-sorted-small.csv.bz2\", 'rt') as f:\n",
    "#     content = f.readlines()"
   ]
  },
  {
   "cell_type": "code",
   "execution_count": 3,
   "metadata": {},
   "outputs": [],
   "source": [
    "# rdd = sc.parallelize(content[:5000])"
   ]
  },
  {
   "cell_type": "code",
   "execution_count": 4,
   "metadata": {},
   "outputs": [],
   "source": [
    "# rdd = rdd.map(lambda x: x.split(\",\"))"
   ]
  },
  {
   "cell_type": "code",
   "execution_count": 2,
   "metadata": {},
   "outputs": [],
   "source": [
    "import numpy as np"
   ]
  },
  {
   "cell_type": "code",
   "execution_count": 3,
   "metadata": {},
   "outputs": [],
   "source": [
    "def isfloat(value):\n",
    "    try:\n",
    "        float(value)\n",
    "        return True\n",
    "    except:\n",
    "        return False\n",
    "\n",
    "def correctRows(p):\n",
    "    if(len(p) == 17):\n",
    "        if(isfloat(p[4]) and isfloat(p[5]) and isfloat(p[11]) and isfloat(p[12]) and isfloat(p[16])):\n",
    "            if(float(p[4]) != 0 and float(p[5]) != 0 and float(p[11]) != 0 and float(p[16])):\n",
    "                return p"
   ]
  },
  {
   "cell_type": "code",
   "execution_count": 4,
   "metadata": {},
   "outputs": [],
   "source": [
    "texilinesCorrect = rdd.filter(correctRows)"
   ]
  },
  {
   "cell_type": "code",
   "execution_count": 5,
   "metadata": {},
   "outputs": [],
   "source": [
    "n = texilinesCorrect.count()"
   ]
  },
  {
   "cell_type": "code",
   "execution_count": 6,
   "metadata": {},
   "outputs": [],
   "source": [
    "data = texilinesCorrect.map(lambda x: (np.array([1.0, float(x[4]), \\\n",
    "                                         float(x[5]), float(x[11]), \\\n",
    "                                         float(x[12]), float(x[16])])))"
   ]
  },
  {
   "cell_type": "code",
   "execution_count": 7,
   "metadata": {},
   "outputs": [],
   "source": [
    "prev_w = prev_w = np.full(5, 0.1)\n",
    "WtX = data.map(lambda x: (np.multiply(prev_w, x[:-1]), x))\\\n",
    "            .map(lambda x: (x[0].sum(), x[1]))"
   ]
  },
  {
   "cell_type": "code",
   "execution_count": 8,
   "metadata": {},
   "outputs": [
    {
     "data": {
      "text/plain": [
       "[(12.544, array([  1.  , 120.  ,   0.44,   3.5 ,   0.5 ,   4.5 ]))]"
      ]
     },
     "execution_count": 8,
     "metadata": {},
     "output_type": "execute_result"
    }
   ],
   "source": [
    "WtX.take(1)"
   ]
  },
  {
   "cell_type": "code",
   "execution_count": 9,
   "metadata": {},
   "outputs": [],
   "source": [
    "errors_loss = WtX.map(lambda x: (np.subtract(x[0], x[1][5]), x[1]))\\"
   ]
  },
  {
   "cell_type": "code",
   "execution_count": 10,
   "metadata": {},
   "outputs": [
    {
     "data": {
      "text/plain": [
       "[(8.044, array([  1.  , 120.  ,   0.44,   3.5 ,   0.5 ,   4.5 ]))]"
      ]
     },
     "execution_count": 10,
     "metadata": {},
     "output_type": "execute_result"
    }
   ],
   "source": [
    "errors.take(1)"
   ]
  },
  {
   "cell_type": "code",
   "execution_count": 11,
   "metadata": {},
   "outputs": [],
   "source": [
    "loss = errors.map(lambda x:(1, x[0]**2))\\\n",
    "            .reduceByKey(lambda x1, x2: x1 + x2)"
   ]
  },
  {
   "cell_type": "code",
   "execution_count": 18,
   "metadata": {},
   "outputs": [
    {
     "data": {
      "text/plain": [
       "[(1, 9319805873.655169)]"
      ]
     },
     "execution_count": 18,
     "metadata": {},
     "output_type": "execute_result"
    }
   ],
   "source": [
    "loss.collect()"
   ]
  },
  {
   "cell_type": "code",
   "execution_count": 46,
   "metadata": {},
   "outputs": [],
   "source": [
    "dW_loss = errors.map(lambda x: (1, (np.multiply(x[0], x[1][: -1]), x[0]**2)))\\\n",
    "       .reduceByKey(lambda x1, x2: (np.add(x1[0], x2[0]), x1[1] + x2[1]))"
   ]
  },
  {
   "cell_type": "code",
   "execution_count": 47,
   "metadata": {},
   "outputs": [
    {
     "data": {
      "text/plain": [
       "[(1, (array([1.10178961e+08, 1.13126232e+11, 5.24187237e+08, 1.91686238e+09,\n",
       "          3.32014498e+07]), 9319805873.655169))]"
      ]
     },
     "execution_count": 47,
     "metadata": {},
     "output_type": "execute_result"
    }
   ],
   "source": [
    "dW_loss.collect()"
   ]
  },
  {
   "cell_type": "code",
   "execution_count": 45,
   "metadata": {},
   "outputs": [
    {
     "data": {
      "text/plain": [
       "[(1,\n",
       "  (array([  8.044  , 965.28   ,   3.53936,  28.154  ,   4.022  ]),\n",
       "   64.70593600000001))]"
      ]
     },
     "execution_count": 45,
     "metadata": {},
     "output_type": "execute_result"
    }
   ],
   "source": [
    "dW_loss.take(1)"
   ]
  },
  {
   "cell_type": "code",
   "execution_count": 32,
   "metadata": {},
   "outputs": [
    {
     "data": {
      "text/plain": [
       "array([2, 4, 6])"
      ]
     },
     "execution_count": 32,
     "metadata": {},
     "output_type": "execute_result"
    }
   ],
   "source": [
    "a = np.array([1, 2,3])\n",
    "b =np.array([1,2,3])\n",
    "np.add(a, b)"
   ]
  },
  {
   "cell_type": "code",
   "execution_count": 50,
   "metadata": {},
   "outputs": [],
   "source": [
    "import sys"
   ]
  },
  {
   "cell_type": "code",
   "execution_count": 55,
   "metadata": {},
   "outputs": [],
   "source": [
    "def gradientDescent(learningRate = 0.001, num_iteration = 100):\n",
    "    prev_W= np.full(5, 0.1)\n",
    "    count = 0\n",
    "    # precision = 0.00000001\n",
    "    # prev_stepsize = 1\n",
    "    prev_loss = sys.float_info.max\n",
    "    while(num_iteration > count):\n",
    "        # Calculate linear combination w1 * x1 + w2 * x2.....\n",
    "        # and keep original data in each row for later calculation.\n",
    "        WtX = data.map(lambda x: (np.multiply(prev_w, x[:-1]), x))\\\n",
    "            .map(lambda x: (x[0].sum(), x[1]))\n",
    "        \n",
    "        # Calculate error which is target - prediction\n",
    "        errors = WtX.map(lambda x: (np.subtract(x[0], x[1][5]), x[1]))\n",
    "        \n",
    "        \n",
    "        # Calculate weight and loss\n",
    "        dW_loss = errors.map(lambda x: (1, (np.multiply(x[0], x[1][: -1]), x[0]**2)))\\\n",
    "                .reduceByKey(lambda x1, x2: (np.add(x1[0], x2[0]), x1[1] + x2[1]))\\\n",
    "                .collect()\n",
    "        \n",
    "        # Extract weight from list\n",
    "        dW = dW_loss[0][1][0]\n",
    "        \n",
    "         # Calculate current loss \n",
    "        cur_loss = dW_loss[0][1][1]\n",
    "        \n",
    "        # Set current weight \n",
    "        cur_W = np.subtract(prev_W, learningRate*dW)\n",
    "        \n",
    "       \n",
    "        \n",
    "        # Bold Driver logic\n",
    "        if cur_loss < prev_loss:\n",
    "            learningRate += 0.001\n",
    "        else:\n",
    "            learningRate -= 0.001\n",
    "        \n",
    "        print(\"Iteration: \", count)\n",
    "        print(\"W: \" ,cur_W)\n",
    "        \n",
    "        count += 1\n",
    "        \n",
    "        # Calculate stepsize\n",
    "        # prev_stepsize = np.mean(np.abs(np.subtract(prev_W, cur_W)))\n",
    "        \n",
    "        prev_W = cur_W\n",
    "        \n",
    "        prev_loss = cur_loss\n",
    "        \n",
    "        \n",
    "    return cur_W"
   ]
  },
  {
   "cell_type": "code",
   "execution_count": 56,
   "metadata": {},
   "outputs": [
    {
     "name": "stdout",
     "output_type": "stream",
     "text": [
      "Iteration:  0\n",
      "W:  [-1.10178861e+05 -1.13126232e+08 -5.24187137e+05 -1.91686228e+06\n",
      " -3.32013498e+04]\n",
      "Iteration:  1\n",
      "W:  [-3.30536783e+05 -3.39378695e+08 -1.57256161e+06 -5.75058704e+06\n",
      " -9.96042493e+04]\n",
      "Iteration:  2\n",
      "W:  [-4.40715744e+05 -4.52504927e+08 -2.09674885e+06 -7.66744942e+06\n",
      " -1.32805699e+05]\n",
      "Iteration:  3\n",
      "W:  [-4.40715744e+05 -4.52504927e+08 -2.09674885e+06 -7.66744942e+06\n",
      " -1.32805699e+05]\n",
      "Iteration:  4\n",
      "W:  [-3.30536783e+05 -3.39378695e+08 -1.57256161e+06 -5.75058704e+06\n",
      " -9.96042493e+04]\n",
      "Iteration:  5\n",
      "W:  [-1.10178861e+05 -1.13126232e+08 -5.24187137e+05 -1.91686228e+06\n",
      " -3.32013498e+04]\n",
      "Iteration:  6\n",
      "W:  [2.20358022e+05 2.26252464e+08 1.04837457e+06 3.83372486e+06\n",
      " 6.64029995e+04]\n",
      "Iteration:  7\n",
      "W:  [6.61073866e+05 6.78757390e+08 3.14512352e+06 1.15011744e+07\n",
      " 1.99208799e+05]\n",
      "Iteration:  8\n",
      "W:  [1.21196867e+06 1.24438855e+09 5.76605971e+06 2.10854863e+07\n",
      " 3.65216047e+05]\n",
      "Iteration:  9\n",
      "W:  [1.87304244e+06 1.92314594e+09 8.91118313e+06 3.25866606e+07\n",
      " 5.64424746e+05]\n",
      "Iteration:  10\n",
      "W:  [2.64429516e+06 2.71502956e+09 1.25804938e+07 4.60046972e+07\n",
      " 7.96834895e+05]\n",
      "Iteration:  11\n",
      "W:  [3.52572685e+06 3.62003941e+09 1.67739917e+07 6.13395963e+07\n",
      " 1.06244649e+06]\n",
      "Iteration:  12\n",
      "W:  [4.51733750e+06 4.63817550e+09 2.14916768e+07 7.85913577e+07\n",
      " 1.36125954e+06]\n",
      "Iteration:  13\n",
      "W:  [5.61912711e+06 5.76943782e+09 2.67335492e+07 9.77599815e+07\n",
      " 1.69327404e+06]\n",
      "Iteration:  14\n",
      "W:  [6.83109568e+06 7.01382637e+09 3.24996088e+07 1.18845468e+08\n",
      " 2.05848999e+06]\n",
      "Iteration:  15\n",
      "W:  [8.15324321e+06 8.37134115e+09 3.87898556e+07 1.41847816e+08\n",
      " 2.45690738e+06]\n",
      "Iteration:  16\n",
      "W:  [9.58556971e+06 9.84198216e+09 4.56042897e+07 1.66767027e+08\n",
      " 2.88852623e+06]\n",
      "Iteration:  17\n",
      "W:  [1.11280752e+07 1.14257494e+10 5.29429110e+07 1.93603101e+08\n",
      " 3.35334653e+06]\n",
      "Iteration:  18\n",
      "W:  [1.27807596e+07 1.31226429e+10 6.08057196e+07 2.22356036e+08\n",
      " 3.85136827e+06]\n",
      "Iteration:  19\n",
      "W:  [1.45436230e+07 1.49326626e+10 6.91927154e+07 2.53025834e+08\n",
      " 4.38259147e+06]\n",
      "Iteration:  20\n",
      "W:  [1.64166653e+07 1.68558085e+10 7.81038984e+07 2.85612495e+08\n",
      " 4.94701612e+06]\n",
      "Iteration:  21\n",
      "W:  [1.83998866e+07 1.88920807e+10 8.75392686e+07 3.20116018e+08\n",
      " 5.54464221e+06]\n",
      "Iteration:  22\n",
      "W:  [2.04932868e+07 2.10414791e+10 9.74988261e+07 3.56536403e+08\n",
      " 6.17546976e+06]\n",
      "Iteration:  23\n",
      "W:  [2.26968661e+07 2.33040037e+10 1.07982571e+08 3.94873651e+08\n",
      " 6.83949875e+06]\n",
      "Iteration:  24\n",
      "W:  [2.50106242e+07 2.56796546e+10 1.18990503e+08 4.35127761e+08\n",
      " 7.53672920e+06]\n",
      "Iteration:  25\n",
      "W:  [2.74345614e+07 2.81684317e+10 1.30522622e+08 4.77298733e+08\n",
      " 8.26716109e+06]\n",
      "Iteration:  26\n",
      "W:  [2.99686775e+07 3.07703350e+10 1.42578929e+08 5.21386568e+08\n",
      " 9.03079444e+06]\n",
      "Iteration:  27\n",
      "W:  [3.26129726e+07 3.34853646e+10 1.55159422e+08 5.67391265e+08\n",
      " 9.82762923e+06]\n",
      "Iteration:  28\n",
      "W:  [3.53674466e+07 3.63135204e+10 1.68264103e+08 6.15312824e+08\n",
      " 1.06576655e+07]\n",
      "Iteration:  29\n",
      "W:  [3.82320996e+07 3.92548024e+10 1.81892971e+08 6.65151246e+08\n",
      " 1.15209032e+07]\n",
      "Iteration:  30\n",
      "W:  [4.12069315e+07 4.23092107e+10 1.96046027e+08 7.16906531e+08\n",
      " 1.24173423e+07]\n",
      "Iteration:  31\n",
      "W:  [4.42919424e+07 4.54767451e+10 2.10723269e+08 7.70578677e+08\n",
      " 1.33469829e+07]\n",
      "Iteration:  32\n",
      "W:  [4.74871323e+07 4.87574059e+10 2.25924699e+08 8.26167686e+08\n",
      " 1.43098250e+07]\n",
      "Iteration:  33\n",
      "W:  [5.07925011e+07 5.21511928e+10 2.41650316e+08 8.83673558e+08\n",
      " 1.53058684e+07]\n",
      "Iteration:  34\n",
      "W:  [5.42080489e+07 5.56581060e+10 2.57900121e+08 9.43096292e+08\n",
      " 1.63351134e+07]\n",
      "Iteration:  35\n",
      "W:  [5.77337757e+07 5.92781454e+10 2.74674112e+08 1.00443589e+09\n",
      " 1.73975598e+07]\n",
      "Iteration:  36\n",
      "W:  [6.13696814e+07 6.30113111e+10 2.91972291e+08 1.06769235e+09\n",
      " 1.84932076e+07]\n",
      "Iteration:  37\n",
      "W:  [6.51157661e+07 6.68576029e+10 3.09794657e+08 1.13286567e+09\n",
      " 1.96220569e+07]\n",
      "Iteration:  38\n",
      "W:  [6.89720297e+07 7.08170210e+10 3.28141210e+08 1.19995585e+09\n",
      " 2.07841077e+07]\n",
      "Iteration:  39\n",
      "W:  [7.29384723e+07 7.48895654e+10 3.47011951e+08 1.26896290e+09\n",
      " 2.19793598e+07]\n",
      "Iteration:  40\n",
      "W:  [7.70150938e+07 7.90752360e+10 3.66406879e+08 1.33988680e+09\n",
      " 2.32078135e+07]\n",
      "Iteration:  41\n",
      "W:  [8.12018944e+07 8.33740328e+10 3.86325994e+08 1.41272757e+09\n",
      " 2.44694686e+07]\n",
      "Iteration:  42\n",
      "W:  [8.54988738e+07 8.77859558e+10 4.06769296e+08 1.48748521e+09\n",
      " 2.57643251e+07]\n",
      "Iteration:  43\n",
      "W:  [8.99060323e+07 9.23110051e+10 4.27736785e+08 1.56415970e+09\n",
      " 2.70923831e+07]\n",
      "Iteration:  44\n",
      "W:  [9.44233697e+07 9.69491806e+10 4.49228462e+08 1.64275106e+09\n",
      " 2.84536426e+07]\n",
      "Iteration:  45\n",
      "W:  [9.90508860e+07 1.01700482e+11 4.71244326e+08 1.72325928e+09\n",
      " 2.98481034e+07]\n",
      "Iteration:  46\n",
      "W:  [1.03788581e+08 1.06564910e+11 4.93784377e+08 1.80568436e+09\n",
      " 3.12757658e+07]\n",
      "Iteration:  47\n",
      "W:  [1.08636456e+08 1.11542464e+11 5.16848616e+08 1.89002631e+09\n",
      " 3.27366296e+07]\n",
      "Iteration:  48\n",
      "W:  [1.13594509e+08 1.16633145e+11 5.40437041e+08 1.97628511e+09\n",
      " 3.42306948e+07]\n",
      "Iteration:  49\n",
      "W:  [1.18662741e+08 1.21836952e+11 5.64549654e+08 2.06446078e+09\n",
      " 3.57579615e+07]\n",
      "Iteration:  50\n",
      "W:  [1.23841152e+08 1.27153884e+11 5.89186454e+08 2.15455332e+09\n",
      " 3.73184296e+07]\n",
      "Iteration:  51\n",
      "W:  [1.29129742e+08 1.32583944e+11 6.14347442e+08 2.24656271e+09\n",
      " 3.89120992e+07]\n",
      "Iteration:  52\n",
      "W:  [1.34528511e+08 1.38127129e+11 6.40032616e+08 2.34048897e+09\n",
      " 4.05389703e+07]\n",
      "Iteration:  53\n",
      "W:  [1.40037460e+08 1.43783440e+11 6.66241978e+08 2.43633209e+09\n",
      " 4.21990428e+07]\n",
      "Iteration:  54\n",
      "W:  [1.45656587e+08 1.49552878e+11 6.92975527e+08 2.53409207e+09\n",
      " 4.38923167e+07]\n",
      "Iteration:  55\n",
      "W:  [1.51385893e+08 1.55435442e+11 7.20233263e+08 2.63376891e+09\n",
      " 4.56187921e+07]\n",
      "Iteration:  56\n",
      "W:  [1.57225377e+08 1.61431133e+11 7.48015187e+08 2.73536262e+09\n",
      " 4.73784689e+07]\n",
      "Iteration:  57\n",
      "W:  [1.63175041e+08 1.67539949e+11 7.76321298e+08 2.83887319e+09\n",
      " 4.91713472e+07]\n",
      "Iteration:  58\n",
      "W:  [1.69234884e+08 1.73761892e+11 8.05151596e+08 2.94430062e+09\n",
      " 5.09974269e+07]\n",
      "Iteration:  59\n",
      "W:  [1.75404906e+08 1.80096961e+11 8.34506081e+08 3.05164491e+09\n",
      " 5.28567081e+07]\n",
      "Iteration:  60\n",
      "W:  [1.81685107e+08 1.86545156e+11 8.64384754e+08 3.16090607e+09\n",
      " 5.47491908e+07]\n",
      "Iteration:  61\n",
      "W:  [1.88075487e+08 1.93106478e+11 8.94787613e+08 3.27208408e+09\n",
      " 5.66748749e+07]\n",
      "Iteration:  62\n",
      "W:  [1.94576045e+08 1.99780925e+11 9.25714660e+08 3.38517897e+09\n",
      " 5.86337604e+07]\n",
      "Iteration:  63\n",
      "W:  [2.01186783e+08 2.06568499e+11 9.57165895e+08 3.50019071e+09\n",
      " 6.06258474e+07]\n",
      "Iteration:  64\n",
      "W:  [2.07907700e+08 2.13469199e+11 9.89141316e+08 3.61711931e+09\n",
      " 6.26511358e+07]\n",
      "Iteration:  65\n",
      "W:  [2.14738795e+08 2.20483026e+11 1.02164092e+09 3.73596478e+09\n",
      " 6.47096257e+07]\n",
      "Iteration:  66\n",
      "W:  [2.21680070e+08 2.27609978e+11 1.05466472e+09 3.85672711e+09\n",
      " 6.68013170e+07]\n",
      "Iteration:  67\n",
      "W:  [2.28731523e+08 2.34850057e+11 1.08821270e+09 3.97940630e+09\n",
      " 6.89262098e+07]\n",
      "Iteration:  68\n",
      "W:  [2.35893156e+08 2.42203262e+11 1.12228487e+09 4.10400236e+09\n",
      " 7.10843041e+07]\n",
      "Iteration:  69\n",
      "W:  [2.43164967e+08 2.49669593e+11 1.15688123e+09 4.23051528e+09\n",
      " 7.32755997e+07]\n",
      "Iteration:  70\n",
      "W:  [2.50546957e+08 2.57249051e+11 1.19200178e+09 4.35894505e+09\n",
      " 7.55000969e+07]\n",
      "Iteration:  71\n",
      "W:  [2.58039127e+08 2.64941635e+11 1.22764651e+09 4.48929170e+09\n",
      " 7.77577955e+07]\n",
      "Iteration:  72\n",
      "W:  [2.65641475e+08 2.72747345e+11 1.26381543e+09 4.62155520e+09\n",
      " 8.00486955e+07]\n",
      "Iteration:  73\n",
      "W:  [2.73354002e+08 2.80666181e+11 1.30050853e+09 4.75573557e+09\n",
      " 8.23727970e+07]\n",
      "Iteration:  74\n",
      "W:  [2.81176709e+08 2.88698143e+11 1.33772583e+09 4.89183280e+09\n",
      " 8.47300999e+07]\n",
      "Iteration:  75\n",
      "W:  [2.89109594e+08 2.96843232e+11 1.37546731e+09 5.02984689e+09\n",
      " 8.71206043e+07]\n",
      "Iteration:  76\n",
      "W:  [2.97152658e+08 3.05101447e+11 1.41373298e+09 5.16977784e+09\n",
      " 8.95443101e+07]\n",
      "Iteration:  77\n",
      "W:  [3.05305901e+08 3.13472788e+11 1.45252283e+09 5.31162566e+09\n",
      " 9.20012174e+07]\n",
      "Iteration:  78\n",
      "W:  [3.13569323e+08 3.21957255e+11 1.49183688e+09 5.45539034e+09\n",
      " 9.44913261e+07]\n",
      "Iteration:  79\n",
      "W:  [3.21942924e+08 3.30554849e+11 1.53167511e+09 5.60107188e+09\n",
      " 9.70146363e+07]\n",
      "Iteration:  80\n",
      "W:  [3.30426704e+08 3.39265569e+11 1.57203752e+09 5.74867028e+09\n",
      " 9.95711480e+07]\n",
      "Iteration:  81\n",
      "W:  [3.39020663e+08 3.48089415e+11 1.61292413e+09 5.89818555e+09\n",
      " 1.02160861e+08]\n",
      "Iteration:  82\n",
      "W:  [3.47724801e+08 3.57026387e+11 1.65433492e+09 6.04961767e+09\n",
      " 1.04783776e+08]\n",
      "Iteration:  83\n",
      "W:  [3.56539118e+08 3.66076486e+11 1.69626990e+09 6.20296667e+09\n",
      " 1.07439892e+08]\n",
      "Iteration:  84\n",
      "W:  [3.65463614e+08 3.75239711e+11 1.73872906e+09 6.35823252e+09\n",
      " 1.10129209e+08]\n"
     ]
    },
    {
     "name": "stdout",
     "output_type": "stream",
     "text": [
      "Iteration:  85\n",
      "W:  [3.74498289e+08 3.84516062e+11 1.78171242e+09 6.51541523e+09\n",
      " 1.12851728e+08]\n",
      "Iteration:  86\n",
      "W:  [3.83643142e+08 3.93905539e+11 1.82521996e+09 6.67451481e+09\n",
      " 1.15607448e+08]\n",
      "Iteration:  87\n",
      "W:  [3.92898175e+08 4.03408142e+11 1.86925169e+09 6.83553125e+09\n",
      " 1.18396370e+08]\n",
      "Iteration:  88\n",
      "W:  [4.02263387e+08 4.13023872e+11 1.91380760e+09 6.99846455e+09\n",
      " 1.21218493e+08]\n",
      "Iteration:  89\n",
      "W:  [4.11738777e+08 4.22752728e+11 1.95888770e+09 7.16331472e+09\n",
      " 1.24073818e+08]\n",
      "Iteration:  90\n",
      "W:  [4.21324347e+08 4.32594710e+11 2.00449199e+09 7.33008175e+09\n",
      " 1.26962344e+08]\n",
      "Iteration:  91\n",
      "W:  [4.31020096e+08 4.42549818e+11 2.05062047e+09 7.49876563e+09\n",
      " 1.29884072e+08]\n",
      "Iteration:  92\n",
      "W:  [4.40826023e+08 4.52618053e+11 2.09727313e+09 7.66936639e+09\n",
      " 1.32839001e+08]\n",
      "Iteration:  93\n",
      "W:  [4.50742130e+08 4.62799414e+11 2.14444999e+09 7.84188400e+09\n",
      " 1.35827131e+08]\n",
      "Iteration:  94\n",
      "W:  [4.60768415e+08 4.73093901e+11 2.19215102e+09 8.01631848e+09\n",
      " 1.38848463e+08]\n",
      "Iteration:  95\n",
      "W:  [4.70904879e+08 4.83501514e+11 2.24037625e+09 8.19266982e+09\n",
      " 1.41902996e+08]\n",
      "Iteration:  96\n",
      "W:  [4.81151523e+08 4.94022254e+11 2.28912566e+09 8.37093802e+09\n",
      " 1.44990731e+08]\n",
      "Iteration:  97\n",
      "W:  [4.91508345e+08 5.04656120e+11 2.33839926e+09 8.55112308e+09\n",
      " 1.48111668e+08]\n",
      "Iteration:  98\n",
      "W:  [5.01975346e+08 5.15403112e+11 2.38819705e+09 8.73322501e+09\n",
      " 1.51265805e+08]\n",
      "Iteration:  99\n",
      "W:  [5.12552527e+08 5.26263230e+11 2.43851903e+09 8.91724380e+09\n",
      " 1.54453144e+08]\n"
     ]
    }
   ],
   "source": [
    "W = gradientDescent()"
   ]
  },
  {
   "cell_type": "code",
   "execution_count": 51,
   "metadata": {},
   "outputs": [],
   "source": [
    "# data = texilinesCorrect.flatMap(lambda x: [(1, np.array([1.0])), (4, np.array([float(x[4])])), \\\n",
    "#                                         (5, np.array([float(x[5])])), (11, np.array([float(x[11])])), \\\n",
    "#                                         (12, np.array([float(x[12])])), (16, np.array([float(x[16])]))])"
   ]
  },
  {
   "cell_type": "code",
   "execution_count": 53,
   "metadata": {},
   "outputs": [],
   "source": [
    "# def appendToCol(x1, x2):\n",
    "#     col_one = np.append(x1[0], x2[0])\n",
    "#     col_idx4 = np.append(x1[1], x2[1])\n",
    "#     col_idx5 = np.append(x1[2], x2[2])\n",
    "#     col_idx11 = np.append(x1[3], x2[3])\n",
    "#     col_idx12 = np.append(x1[4], x2[4])\n",
    "#     col_idx16 = np.append(x1[5], x2[5])\n",
    "#     return np.array([col_one, col_idx4, col_idx5, col_idx11, col_idx12, col_idx16])"
   ]
  },
  {
   "cell_type": "code",
   "execution_count": 63,
   "metadata": {},
   "outputs": [],
   "source": [
    "# prev_w = np.full(5, 0.1)\n",
    "# transposed = data.reduceByKey(lambda x1, x2: np.append(x1, x2))\n",
    "# errors = transposed.map(lambda x: (x[0], np.multiply(0.1, x[1])))"
   ]
  },
  {
   "cell_type": "code",
   "execution_count": null,
   "metadata": {},
   "outputs": [],
   "source": []
  }
 ],
 "metadata": {
  "kernelspec": {
   "display_name": "Python 3",
   "language": "python",
   "name": "python3"
  },
  "language_info": {
   "codemirror_mode": {
    "name": "ipython",
    "version": 3
   },
   "file_extension": ".py",
   "mimetype": "text/x-python",
   "name": "python",
   "nbconvert_exporter": "python",
   "pygments_lexer": "ipython3",
   "version": "3.6.8"
  },
  "latex_envs": {
   "LaTeX_envs_menu_present": true,
   "autoclose": false,
   "autocomplete": true,
   "bibliofile": "biblio.bib",
   "cite_by": "apalike",
   "current_citInitial": 1,
   "eqLabelWithNumbers": true,
   "eqNumInitial": 1,
   "hotkeys": {
    "equation": "Ctrl-E",
    "itemize": "Ctrl-I"
   },
   "labels_anchors": false,
   "latex_user_defs": false,
   "report_style_numbering": false,
   "user_envs_cfg": false
  }
 },
 "nbformat": 4,
 "nbformat_minor": 2
}
