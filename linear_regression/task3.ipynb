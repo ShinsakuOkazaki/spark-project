{
 "cells": [
  {
   "cell_type": "code",
   "execution_count": 1,
   "metadata": {},
   "outputs": [],
   "source": [
    "rdd = sc.textFile(\"../data/taxi-data-sorted-small.csv.bz2\")\n",
    "rdd = rdd.map(lambda x: x.split(','))"
   ]
  },
  {
   "cell_type": "code",
   "execution_count": 2,
   "metadata": {},
   "outputs": [],
   "source": [
    "# import bz2\n",
    "# with bz2.open(\"../data/taxi-data-sorted-small.csv.bz2\", 'rt') as f:\n",
    "#     content = f.readlines()"
   ]
  },
  {
   "cell_type": "code",
   "execution_count": 3,
   "metadata": {},
   "outputs": [],
   "source": [
    "# rdd = sc.parallelize(content[:5000])"
   ]
  },
  {
   "cell_type": "code",
   "execution_count": 4,
   "metadata": {},
   "outputs": [],
   "source": [
    "# rdd = rdd.map(lambda x: x.split(\",\"))"
   ]
  },
  {
   "cell_type": "code",
   "execution_count": 23,
   "metadata": {},
   "outputs": [],
   "source": [
    "import numpy as np\n",
    "import time"
   ]
  },
  {
   "cell_type": "code",
   "execution_count": 6,
   "metadata": {},
   "outputs": [],
   "source": [
    "def isfloat(value):\n",
    "    try:\n",
    "        float(value)\n",
    "        return True\n",
    "    except:\n",
    "        return False\n",
    "\n",
    "def correctRows(p):\n",
    "    if(len(p) == 17):\n",
    "        if(isfloat(p[4]) and isfloat(p[5]) and isfloat(p[11]) and isfloat(p[12]) and isfloat(p[16])):\n",
    "            if(float(p[4]) != 0 and float(p[5]) != 0 and float(p[11]) != 0 and float(p[16])):\n",
    "                return p"
   ]
  },
  {
   "cell_type": "code",
   "execution_count": 7,
   "metadata": {},
   "outputs": [],
   "source": [
    "texilinesCorrect = rdd.filter(correctRows)"
   ]
  },
  {
   "cell_type": "code",
   "execution_count": 8,
   "metadata": {},
   "outputs": [],
   "source": [
    "n = texilinesCorrect.count()"
   ]
  },
  {
   "cell_type": "code",
   "execution_count": 9,
   "metadata": {},
   "outputs": [],
   "source": [
    "data = texilinesCorrect.map(lambda x: (np.array([1.0, float(x[4]), \\\n",
    "                                         float(x[5]), float(x[11]), \\\n",
    "                                         float(x[12]), float(x[16])])))"
   ]
  },
  {
   "cell_type": "code",
   "execution_count": null,
   "metadata": {},
   "outputs": [],
   "source": []
  },
  {
   "cell_type": "code",
   "execution_count": 10,
   "metadata": {},
   "outputs": [],
   "source": [
    "prev_w = prev_w = np.full(5, 0.1)\n",
    "WtX = data.map(lambda x: (np.multiply(prev_w, x[:-1]), x))\\\n",
    "            .map(lambda x: (x[0].sum(), x[1]))"
   ]
  },
  {
   "cell_type": "code",
   "execution_count": 11,
   "metadata": {},
   "outputs": [
    {
     "data": {
      "text/plain": [
       "[(12.544, array([  1.  , 120.  ,   0.44,   3.5 ,   0.5 ,   4.5 ]))]"
      ]
     },
     "execution_count": 11,
     "metadata": {},
     "output_type": "execute_result"
    }
   ],
   "source": [
    "WtX.take(1)"
   ]
  },
  {
   "cell_type": "code",
   "execution_count": 12,
   "metadata": {},
   "outputs": [],
   "source": [
    "errors_loss = WtX.map(lambda x: (np.subtract(x[0], x[1][5]), x[1]))\\"
   ]
  },
  {
   "cell_type": "code",
   "execution_count": 20,
   "metadata": {},
   "outputs": [],
   "source": [
    "import sys"
   ]
  },
  {
   "cell_type": "code",
   "execution_count": 1,
   "metadata": {},
   "outputs": [],
   "source": [
    "def gradientDescent(learningRate = 1e-15, num_iteration = 100):\n",
    "    prev_W= np.full(5, 0.1)\n",
    "    count = 0\n",
    "    # precision = 0.00000001\n",
    "    # prev_stepsize = 1\n",
    "    prev_loss = sys.float_info.max\n",
    "    while(num_iteration > count):\n",
    "        start = time.time()\n",
    "        # Calculate linear combination w1 * x1 + w2 * x2.....\n",
    "        # and keep original data in each row for later calculation.\n",
    "        WtX = data.map(lambda x: (np.multiply(prev_W, x[:-1]), x))\\\n",
    "            .map(lambda x: (x[0].sum(), x[1]))\n",
    "\n",
    "        # Calculate error which is target - prediction\n",
    "        errors = WtX.map(lambda x: ((x[1][5] - x[0]), x[1]))\n",
    "\n",
    "        # Calculate weight and loss\n",
    "        dW_loss = errors.map(lambda x: (1, (np.multiply(x[1][: -1], -x[0]), x[0]**2)))\\\n",
    "                .reduceByKey(lambda x1, x2: (np.add(x1[0], x2[0]), x1[1] + x2[1]))\\\n",
    "                .collect()\n",
    "\n",
    "        # Extract weight from list\n",
    "        dW = dW_loss[0][1][0]\n",
    "\n",
    "        # Calculate current loss \n",
    "        cur_loss = dW_loss[0][1][1]\n",
    "\n",
    "        # Set current weight \n",
    "        cur_W = np.subtract(prev_W, learningRate*dW)\n",
    "\n",
    "\n",
    "\n",
    "        # Bold Driver logic\n",
    "        if cur_loss < prev_loss:\n",
    "            learningRate += 1e-15\n",
    "        else:\n",
    "            learningRate -= 1e-15\n",
    "\n",
    "        print(\"Iteration: \", count)\n",
    "        print(\"W: \" ,cur_W)\n",
    "        print(\"Loss: \", cur_loss)\n",
    "\n",
    "        count += 1\n",
    "\n",
    "        # Calculate stepsize\n",
    "        # prev_stepsize = np.mean(np.abs(np.subtract(prev_W, cur_W)))\n",
    "\n",
    "        prev_W = cur_W\n",
    "\n",
    "        prev_loss = cur_loss\n",
    "\n",
    "        stop = time.time()\n",
    "        duration = stop - start\n",
    "        print(\"Duration\", duration)\n",
    "\n",
    "    return cur_W"
   ]
  },
  {
   "cell_type": "code",
   "execution_count": 2,
   "metadata": {},
   "outputs": [
    {
     "ename": "NameError",
     "evalue": "name 'np' is not defined",
     "output_type": "error",
     "traceback": [
      "\u001b[0;31m---------------------------------------------------------------------------\u001b[0m",
      "\u001b[0;31mNameError\u001b[0m                                 Traceback (most recent call last)",
      "\u001b[0;32m<ipython-input-2-d30ccbb4ce9c>\u001b[0m in \u001b[0;36m<module>\u001b[0;34m\u001b[0m\n\u001b[0;32m----> 1\u001b[0;31m \u001b[0mW\u001b[0m \u001b[0;34m=\u001b[0m \u001b[0mgradientDescent\u001b[0m\u001b[0;34m(\u001b[0m\u001b[0;34m)\u001b[0m\u001b[0;34m\u001b[0m\u001b[0;34m\u001b[0m\u001b[0m\n\u001b[0m",
      "\u001b[0;32m<ipython-input-1-b9a4bc47b260>\u001b[0m in \u001b[0;36mgradientDescent\u001b[0;34m(learningRate, num_iteration)\u001b[0m\n\u001b[1;32m      1\u001b[0m \u001b[0;32mdef\u001b[0m \u001b[0mgradientDescent\u001b[0m\u001b[0;34m(\u001b[0m\u001b[0mlearningRate\u001b[0m \u001b[0;34m=\u001b[0m \u001b[0;36m1e-15\u001b[0m\u001b[0;34m,\u001b[0m \u001b[0mnum_iteration\u001b[0m \u001b[0;34m=\u001b[0m \u001b[0;36m100\u001b[0m\u001b[0;34m)\u001b[0m\u001b[0;34m:\u001b[0m\u001b[0;34m\u001b[0m\u001b[0;34m\u001b[0m\u001b[0m\n\u001b[0;32m----> 2\u001b[0;31m     \u001b[0mprev_W\u001b[0m\u001b[0;34m=\u001b[0m \u001b[0mnp\u001b[0m\u001b[0;34m.\u001b[0m\u001b[0mfull\u001b[0m\u001b[0;34m(\u001b[0m\u001b[0;36m5\u001b[0m\u001b[0;34m,\u001b[0m \u001b[0;36m0.1\u001b[0m\u001b[0;34m)\u001b[0m\u001b[0;34m\u001b[0m\u001b[0;34m\u001b[0m\u001b[0m\n\u001b[0m\u001b[1;32m      3\u001b[0m     \u001b[0mcount\u001b[0m \u001b[0;34m=\u001b[0m \u001b[0;36m0\u001b[0m\u001b[0;34m\u001b[0m\u001b[0;34m\u001b[0m\u001b[0m\n\u001b[1;32m      4\u001b[0m     \u001b[0mprecision\u001b[0m \u001b[0;34m=\u001b[0m \u001b[0;36m0.00000001\u001b[0m\u001b[0;34m\u001b[0m\u001b[0;34m\u001b[0m\u001b[0m\n\u001b[1;32m      5\u001b[0m     \u001b[0;31m# prev_stepsize = 1\u001b[0m\u001b[0;34m\u001b[0m\u001b[0;34m\u001b[0m\u001b[0;34m\u001b[0m\u001b[0m\n",
      "\u001b[0;31mNameError\u001b[0m: name 'np' is not defined"
     ]
    }
   ],
   "source": [
    "W = gradientDescent()"
   ]
  },
  {
   "cell_type": "code",
   "execution_count": 51,
   "metadata": {},
   "outputs": [],
   "source": [
    "# data = texilinesCorrect.flatMap(lambda x: [(1, np.array([1.0])), (4, np.array([float(x[4])])), \\\n",
    "#                                         (5, np.array([float(x[5])])), (11, np.array([float(x[11])])), \\\n",
    "#                                         (12, np.array([float(x[12])])), (16, np.array([float(x[16])]))])"
   ]
  },
  {
   "cell_type": "code",
   "execution_count": 53,
   "metadata": {},
   "outputs": [],
   "source": [
    "# def appendToCol(x1, x2):\n",
    "#     col_one = np.append(x1[0], x2[0])\n",
    "#     col_idx4 = np.append(x1[1], x2[1])\n",
    "#     col_idx5 = np.append(x1[2], x2[2])\n",
    "#     col_idx11 = np.append(x1[3], x2[3])\n",
    "#     col_idx12 = np.append(x1[4], x2[4])\n",
    "#     col_idx16 = np.append(x1[5], x2[5])\n",
    "#     return np.array([col_one, col_idx4, col_idx5, col_idx11, col_idx12, col_idx16])"
   ]
  },
  {
   "cell_type": "code",
   "execution_count": 63,
   "metadata": {},
   "outputs": [],
   "source": [
    "# prev_w = np.full(5, 0.1)\n",
    "# transposed = data.reduceByKey(lambda x1, x2: np.append(x1, x2))\n",
    "# errors = transposed.map(lambda x: (x[0], np.multiply(0.1, x[1])))"
   ]
  },
  {
   "cell_type": "code",
   "execution_count": null,
   "metadata": {},
   "outputs": [],
   "source": []
  }
 ],
 "metadata": {
  "kernelspec": {
   "display_name": "Python 3",
   "language": "python",
   "name": "python3"
  },
  "language_info": {
   "codemirror_mode": {
    "name": "ipython",
    "version": 3
   },
   "file_extension": ".py",
   "mimetype": "text/x-python",
   "name": "python",
   "nbconvert_exporter": "python",
   "pygments_lexer": "ipython3",
   "version": "3.6.8"
  },
  "latex_envs": {
   "LaTeX_envs_menu_present": true,
   "autoclose": false,
   "autocomplete": true,
   "bibliofile": "biblio.bib",
   "cite_by": "apalike",
   "current_citInitial": 1,
   "eqLabelWithNumbers": true,
   "eqNumInitial": 1,
   "hotkeys": {
    "equation": "Ctrl-E",
    "itemize": "Ctrl-I"
   },
   "labels_anchors": false,
   "latex_user_defs": false,
   "report_style_numbering": false,
   "user_envs_cfg": false
  }
 },
 "nbformat": 4,
 "nbformat_minor": 2
}
